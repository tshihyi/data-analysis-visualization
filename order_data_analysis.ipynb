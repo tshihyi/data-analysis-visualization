{
  "cells": [
    {
      "cell_type": "code",
      "execution_count": null,
      "metadata": {
        "colab": {
          "base_uri": "https://localhost:8080/"
        },
        "id": "UtCD83XJk2ZS",
        "outputId": "84d2a03d-e125-48ae-9ea5-8c4618beb3bf"
      },
      "outputs": [],
      "source": [
        "!pip install pyspark"
      ]
    },
    {
      "cell_type": "markdown",
      "metadata": {
        "id": "yRCb2slzkX5F"
      },
      "source": [
        "Open-data-source: https://data.ca.gov/dataset/purchase-order-data/resource/bb82edc5-9c78-44e2-8947-68ece26197c5"
      ]
    },
    {
      "cell_type": "code",
      "execution_count": null,
      "metadata": {
        "colab": {
          "base_uri": "https://localhost:8080/"
        },
        "id": "cSl8USN_kWLs",
        "outputId": "a4f007df-9e24-484d-ce7d-481a0bcd3165"
      },
      "outputs": [
        {
          "name": "stdout",
          "output_type": "stream",
          "text": [
            "<class 'pandas.core.frame.DataFrame'>\n",
            "Int64Index: 806 entries, 4 to 999\n",
            "Data columns (total 7 columns):\n",
            " #   Column                 Non-Null Count  Dtype         \n",
            "---  ------                 --------------  -----         \n",
            " 0   Purchase_Date          806 non-null    datetime64[ns]\n",
            " 1   Item_Name              806 non-null    object        \n",
            " 2   Purchase_Order_Number  806 non-null    object        \n",
            " 3   Location               515 non-null    object        \n",
            " 4   Department_Name        806 non-null    object        \n",
            " 5   Quantity               806 non-null    float64       \n",
            " 6   Total_Price            806 non-null    float64       \n",
            "dtypes: datetime64[ns](1), float64(2), object(4)\n",
            "memory usage: 50.4+ KB\n"
          ]
        }
      ],
      "source": [
        "from matplotlib.font_manager import fontManager as font_manager\n",
        "from matplotlib.font_manager import FontProperties\n",
        "from matplotlib.ticker import FuncFormatter\n",
        "import matplotlib.dates as mdates\n",
        "import matplotlib.pyplot as plt\n",
        "from datetime import datetime\n",
        "import matplotlib as mpl\n",
        "import seaborn as sns\n",
        "import pandas as pd\n",
        "import numpy as np\n",
        "import requests\n",
        "import warnings\n",
        "import json\n",
        "warnings.filterwarnings('ignore')\n",
        "\n",
        "%matplotlib inline\n",
        "pd.options.mode.chained_assignment = None\n",
        "\n",
        "url = 'https://data.ca.gov/api/3/action/datastore_search?resource_id=bb82edc5-9c78-44e2-8947-68ece26197c5&limit=1000'\n",
        "response_API = requests.get(url)\n",
        "#print(response_API.status_code)\n",
        "data = response_API.text\n",
        "parse_json = json.loads(data)\n",
        "info = parse_json['result']['records']\n",
        "df_purchase_log = pd.json_normalize(info)\n",
        "df_purchase_log.dropna(subset=['Purchase Date', 'Total Price'], inplace=True)\n",
        "df_purchase_log = df_purchase_log[['Purchase Date', 'Item Name', 'Purchase Order Number','Location','Department Name', 'Quantity', 'Total Price']]\n",
        "df_purchase_log['Purchase Date'] = pd.to_datetime(df_purchase_log['Purchase Date'])\n",
        "df_purchase_log['Total Price'] = df_purchase_log['Total Price'].str[1:-1].str.replace(',', '')\n",
        "df_purchase_log['Total Price'] = df_purchase_log['Total Price'].str.replace('$', '')\n",
        "df_purchase_log['Total Price'] = df_purchase_log['Total Price'].astype(float)\n",
        "df_purchase_log['Total Price'] = df_purchase_log['Total Price'].fillna(0)\n",
        "df_purchase_log['Quantity'] = df_purchase_log['Quantity'].astype(float)\n",
        "df_purchase_log['Item Name'] = df_purchase_log['Item Name'].replace('chairs', 'Furniture')\n",
        "df_purchase_log['Item Name'] = df_purchase_log['Item Name'].replace('Chairs', 'Furniture')\n",
        "df_purchase_log['Item Name'] = df_purchase_log['Item Name'].replace('Furniture Set', 'Furniture')\n",
        "df_purchase_log['Item Name'] = df_purchase_log['Item Name'].replace('software', 'Software')\n",
        "df_purchase_log['Item Name'] = df_purchase_log['Item Name'].replace('CXT Cascadian Single Vault Toilet Building', 'Toilet Building')\n",
        "df_purchase_log['Item Name'] = df_purchase_log['Item Name'].replace('Food Items', 'Food')\n",
        "df_purchase_log['Item Name'] = df_purchase_log['Item Name'].replace('dog', 'Pet-dog')\n",
        "df_purchase_log['Item Name'] = df_purchase_log['Item Name'].replace('VIDEO STREAMING SERVICES, LLC', 'Video')\n",
        "df_purchase_log['Item Name'] = df_purchase_log['Item Name'].replace('SILT FENCE 48\"X100\\' ROLL', 'Silt Fence')\n",
        "df_purchase_log['Item Name'] = df_purchase_log['Item Name'].replace(\"TURBIDITY CURTAIN TYPE II 5'X50'\", 'Turbidity Curtain Type II')\n",
        "df_purchase_log['Item Name'] = df_purchase_log['Item Name'].replace('sign language', 'Sign language')\n",
        "df_purchase_log['Item Name'] = df_purchase_log['Item Name'].replace('cross', 'Cross')\n",
        "df_purchase_log['Item Name'] = df_purchase_log['Item Name'].replace('Santa Clara Count SME', 'Software')\n",
        "df_purchase_log['Item Name'] = df_purchase_log['Item Name'].replace('*fish*', 'Food')\n",
        "df_purchase_log['Item Name'] = df_purchase_log['Item Name'].replace('Cod Fish', 'Food')\n",
        "df_purchase_log['Item Name'] = df_purchase_log['Item Name'].replace('food', 'Food')\n",
        "df_purchase_log['Item Name'] = df_purchase_log['Item Name'].replace('Icecream Vanilla 12DZ/CS', 'Food')\n",
        "df_purchase_log['Item Name'] = df_purchase_log['Item Name'].replace('Fresh fruit/veg', 'Food')\n",
        "df_purchase_log['Item Name'] = df_purchase_log['Item Name'].replace('ONIONS, RED DICED', 'Food')\n",
        "df_purchase_log['Item Name'] = df_purchase_log['Item Name'].replace('Potatoes', 'Food')\n",
        "df_purchase_log['Item Name'] = df_purchase_log['Item Name'].replace('broccoli', 'Food')\n",
        "df_purchase_log['Item Name'] = df_purchase_log['Item Name'].replace('mushrooms', 'Food')\n",
        "df_purchase_log['Item Name'] = df_purchase_log['Item Name'].replace('JALAPENO', 'Food')\n",
        "df_purchase_log['Item Name'] = df_purchase_log['Item Name'].replace('YAMS', 'Food')\n",
        "df_purchase_log['Item Name'] = df_purchase_log['Item Name'].replace('beans', 'Food')\n",
        "df_purchase_log['Item Name'] = df_purchase_log['Item Name'].replace('juice', 'Food')\n",
        "df_purchase_log['Item Name'] = df_purchase_log['Item Name'].replace('coffee', 'Food')\n",
        "df_purchase_log['Item Name'] = df_purchase_log['Item Name'].replace('text books', 'Stationery')\n",
        "df_purchase_log['Item Name'] = df_purchase_log['Item Name'].replace('WINDOW ENVELOPE', 'Stationery')\n",
        "df_purchase_log['Item Name'] = df_purchase_log['Item Name'].replace('Paper', 'Stationery')\n",
        "df_purchase_log['Item Name'] = df_purchase_log['Item Name'].replace('Aif Filters', 'Stationery')\n",
        "df_purchase_log['Item Name'] = df_purchase_log['Item Name'].replace('green bell pepper', 'Stationery')\n",
        "df_purchase_log['Item Name'] = df_purchase_log['Item Name'].replace('Labels', 'Stationery')\n",
        "df_purchase_log['Item Name'] = df_purchase_log['Item Name'].replace(\"POTATOES, RED B'S\", 'Food')\n",
        "df_purchase_log['Item Name'] = df_purchase_log['Item Name'].replace(\"SWEEP\", 'Hardware')\n",
        "df_purchase_log['Item Name'] = df_purchase_log['Item Name'].replace(\"TOOL SET\", 'Hardware')\n",
        "df_purchase_log['Item Name'] = df_purchase_log['Item Name'].replace(\"Pallet Rack\", 'Hardware')\n",
        "df_purchase_log['Item Name'] = df_purchase_log['Item Name'].replace(\"Trowels\", 'Hardware')\n",
        "df_purchase_log['Item Name'] = df_purchase_log['Item Name'].replace(\"BEANS, YELLOW WAXED\", 'Hardware')\n",
        "df_purchase_log['Item Name'] = df_purchase_log['Item Name'].replace(\"Lumber for Torrey Pines State Park\", 'Entertainment')\n",
        "df_purchase_log['Item Name'] = df_purchase_log['Item Name'].replace(\"US MASTER BANK TAX GUIDE\", 'Legal Service')\n",
        "df_purchase_log['Item Name'] = df_purchase_log['Item Name'].replace(\"Amendment 2\", 'Legal Service')\n",
        "\n",
        "d = {\"Purchase Date\": \"Purchase_Date\", \"Item Name\": \"Item_Name\",\n",
        "     \"Purchase Order Number\": \"Purchase_Order_Number\", \n",
        "     \"Department Name\":\"Department_Name\",\n",
        "     \"Total Price\":\"Total_Price\"}\n",
        "df_purchase_log = df_purchase_log.rename(columns=d)\n",
        "df_purchase_log = df_purchase_log.drop(df_purchase_log[df_purchase_log.Total_Price <= 0].index)\n",
        "df_purchase_log.info()\n",
        "\n",
        "#Extract data Purchase_Date between 2014/01/01 ~ 2014/01/31\n",
        "start_date = datetime.strptime('2014/01/01', '%Y/%m/%d')\n",
        "end_date = datetime.strptime('2014/02/01', '%Y/%m/%d')\n",
        "\n",
        "df_purchase_log2  = df_purchase_log[(df_purchase_log['Purchase_Date'] >= start_date) & (df_purchase_log['Purchase_Date'] < end_date)]\n"
      ]
    },
    {
      "cell_type": "markdown",
      "metadata": {
        "id": "vGiQKq4xkeU4"
      },
      "source": [
        "Data Trasformation for chart"
      ]
    },
    {
      "cell_type": "code",
      "execution_count": null,
      "metadata": {
        "colab": {
          "base_uri": "https://localhost:8080/"
        },
        "id": "gGxWl786keno",
        "outputId": "fb422efe-7c84-453a-80b4-07599b21369f"
      },
      "outputs": [
        {
          "name": "stdout",
          "output_type": "stream",
          "text": [
            "0     2795.1500\n",
            "1     5022.3900\n",
            "2     3380.6000\n",
            "3      231.9000\n",
            "4     1755.0000\n",
            "5     2874.0450\n",
            "6      204.0000\n",
            "7     1040.0000\n",
            "8      520.0000\n",
            "9     4900.5325\n",
            "10    8346.6300\n",
            "11    8265.0000\n",
            "Name: avg_price, dtype: float64\n"
          ]
        }
      ],
      "source": [
        "df_purchase_log_201401 = df_purchase_log2.groupby(['Purchase_Date'], as_index=False).sum()\n",
        "df_purchase_log_201401_count = df_purchase_log2.groupby(['Purchase_Date'], as_index=False).count()\n",
        "df_purchase_log_201401_count['avg_price'] = df_purchase_log_201401['Total_Price']/df_purchase_log_201401_count['Total_Price']\n",
        "\n",
        "print(df_purchase_log_201401_count['avg_price'])"
      ]
    },
    {
      "cell_type": "code",
      "execution_count": null,
      "metadata": {
        "id": "IDJC8j6RkjSd"
      },
      "outputs": [],
      "source": [
        "df_purchase_log_year = df_purchase_log.groupby(['Purchase_Date'], as_index=False).sum()\n",
        "df_purchase_log_count = df_purchase_log.groupby(['Purchase_Date'], as_index=False).count()\n",
        "df_purchase_log_count['avg_price'] = df_purchase_log['Total_Price']/df_purchase_log_count['Total_Price']"
      ]
    },
    {
      "cell_type": "markdown",
      "metadata": {
        "id": "feHUpCTYDV5m"
      },
      "source": [
        "將資料載入Spark進行SQL分析"
      ]
    },
    {
      "cell_type": "code",
      "execution_count": null,
      "metadata": {
        "colab": {
          "base_uri": "https://localhost:8080/"
        },
        "id": "S9RUVgZrkk11",
        "outputId": "c029624b-c52d-4863-a306-0017a87f85f2"
      },
      "outputs": [
        {
          "name": "stdout",
          "output_type": "stream",
          "text": [
            "+-------------------+--------------------+---------------------+--------------------+--------------------+--------+-----------+\n",
            "|      Purchase_Date|           Item_Name|Purchase_Order_Number|            Location|     Department_Name|Quantity|Total_Price|\n",
            "+-------------------+--------------------+---------------------+--------------------+--------------------+--------+-----------+\n",
            "|2014-03-12 00:00:00|               Toner|           4500221028|95814\\n(38.580427...|Corrections and R...|     1.0|    6080.26|\n",
            "|2014-04-14 00:00:00|  Radiation Oncology|          12-64006.01|93274\\n(36.193481...|State Hospitals, ...|     1.0|   400000.0|\n",
            "|2013-07-26 00:00:00|1\" ss 90* elbow ,...|           4500200308|91322\\n(34.379263...|Water Resources, ...|     4.0|       86.6|\n",
            "|2015-06-09 00:00:00|       MAGENTA TONER|          14-280-1263|95610\\n(38.69507,...|Water Resources C...|     4.0|    1259.96|\n",
            "|2012-08-31 00:00:00|                Food|           4500149558|93706\\n(36.675079...|Corrections and R...|    40.0|       24.0|\n",
            "+-------------------+--------------------+---------------------+--------------------+--------------------+--------+-----------+\n",
            "only showing top 5 rows\n",
            "\n"
          ]
        }
      ],
      "source": [
        "from pyspark.sql.functions import *\n",
        "from pyspark.sql import SparkSession\n",
        "\n",
        "spark = SparkSession.builder\\\n",
        "        .master(\"local[1]\")\\\n",
        "        .appName(\"SparkDataAnalysis\")\\\n",
        "        .getOrCreate() \n",
        "\n",
        "spark_purchase_log=spark.createDataFrame(df_purchase_log) \n",
        "\n",
        "spark_purchase_log.createOrReplaceTempView(\"vw_ca_purchase_log\")\n",
        "\n",
        "spark_purchase_log.show(5)"
      ]
    },
    {
      "cell_type": "markdown",
      "metadata": {
        "id": "yaIKqEdYnNPZ"
      },
      "source": [
        "每日營放和平均購買金額變化\n",
        "\n",
        "小結：下圖繪製2014年1月份的日營收情況，\n",
        "供營運單位進一步探討沒有營收(休假未營業)或營收收入低落原因"
      ]
    },
    {
      "cell_type": "markdown",
      "metadata": {
        "id": "W14UpTuUDmon"
      },
      "source": [
        "計算每日訂單及平均購買金額"
      ]
    },
    {
      "cell_type": "code",
      "execution_count": null,
      "metadata": {
        "colab": {
          "base_uri": "https://localhost:8080/"
        },
        "id": "sqHa5ML3kmfN",
        "outputId": "88b34c9d-4f74-4562-f2ba-4eac2d18a026"
      },
      "outputs": [
        {
          "name": "stdout",
          "output_type": "stream",
          "text": [
            "+-------------------+--------------+------------+----------+\n",
            "|                 dt|purchase_count|total_amount|avg_amount|\n",
            "+-------------------+--------------+------------+----------+\n",
            "|2014-01-02 00:00:00|             2|     5590.30|   2795.15|\n",
            "|2014-01-03 00:00:00|             1|     5022.39|   5022.39|\n",
            "|2014-01-06 00:00:00|             1|     3380.60|   3380.60|\n",
            "|2014-01-07 00:00:00|             2|      463.80|    231.90|\n",
            "|2014-01-08 00:00:00|             1|     1755.00|   1755.00|\n",
            "|2014-01-13 00:00:00|             2|     5748.09|   2874.05|\n",
            "|2014-01-15 00:00:00|             1|      204.00|    204.00|\n",
            "|2014-01-16 00:00:00|             1|     1040.00|   1040.00|\n",
            "|2014-01-21 00:00:00|             1|      520.00|    520.00|\n",
            "|2014-01-22 00:00:00|             4|    19602.13|   4900.53|\n",
            "|2014-01-23 00:00:00|             1|     8346.63|   8346.63|\n",
            "|2014-01-31 00:00:00|             1|     8265.00|   8265.00|\n",
            "+-------------------+--------------+------------+----------+\n",
            "\n"
          ]
        }
      ],
      "source": [
        "query = spark.sql('''\n",
        "                select \n",
        "                 Purchase_Date as dt\n",
        "                ,count(*) as purchase_count\n",
        "                ,CAST(SUM(Total_Price) as decimal(10,2)) as total_amount\n",
        "                ,CAST(AVG(Total_Price) as decimal(10,2)) as avg_amount\n",
        "                from vw_ca_purchase_log\n",
        "                where Purchase_Date between '2014-01-01'\n",
        "                and '2014-01-31'\n",
        "                group by dt\n",
        "                order by dt\n",
        "              ''')\n",
        "\n",
        "query.show()"
      ]
    },
    {
      "cell_type": "markdown",
      "metadata": {
        "id": "HKnjw2ZcEg2a"
      },
      "source": [
        "繪製每日訂單及平均購買金額趨勢圖"
      ]
    },
    {
      "cell_type": "code",
      "execution_count": null,
      "metadata": {
        "colab": {
          "base_uri": "https://localhost:8080/",
          "height": 459
        },
        "id": "BS7qBowpkhA8",
        "outputId": "e88d8147-f153-4bf3-9ee5-48be040e3649"
      },
      "outputs": [
        {
          "data": {
            "text/plain": [
              "<matplotlib.legend.Legend at 0x7f0a6e41a290>"
            ]
          },
          "execution_count": 7,
          "metadata": {},
          "output_type": "execute_result"
        },
        {
          "data": {
            "image/png": "[encoded data removed]",
            "text/plain": [
              "<Figure size 720x432 with 1 Axes>"
            ]
          },
          "metadata": {
            "needs_background": "light"
          },
          "output_type": "display_data"
        }
      ],
      "source": [
        "from matplotlib.legend import legend_handler\n",
        "\n",
        "def thousands_separators(x, pos):\n",
        "    return format(int(x), ',')\n",
        "\n",
        "formatter = FuncFormatter(thousands_separators)\n",
        "\n",
        "fig, ax = plt.subplots(figsize=(10, 6))\n",
        "sns.set(style = \"white\")\n",
        "sns.despine(top = True, right = True) #Remove line of top and right\n",
        "#Total bar chart\n",
        "ax = sns.barplot(x='Purchase_Date', y='Total_Price',  data=df_purchase_log_201401, ci=None, label = 'Total Price')\n",
        "#formatted date string\n",
        "x_dates = df_purchase_log_201401['Purchase_Date'].dt.strftime('%Y-%m-%d')\n",
        "ax.set_xticklabels(labels=x_dates, rotation=45, ha='right')\n",
        "ax.yaxis.set_major_formatter(formatter)\n",
        "\n",
        "#Average line chart\n",
        "sns.lineplot(data=df_purchase_log_201401_count['avg_price'] , marker='o', label='Average Price')\n",
        "plt.title(\"2014.01 Daily Purchase Log\")\n",
        "plt.xlabel(\"Purchase date\")\n",
        "plt.ylabel(\"Total purchase price\")\n",
        "\n",
        "#set the title of legend figure\n",
        "handles, labels = ax.get_legend_handles_labels()\n",
        "ax.legend(labels, loc='upper left')\n"
      ]
    },
    {
      "cell_type": "markdown",
      "metadata": {
        "id": "amDoJv4NEnug"
      },
      "source": [
        "彙整每日營收與七日移動平均的Query"
      ]
    },
    {
      "cell_type": "code",
      "execution_count": null,
      "metadata": {
        "colab": {
          "base_uri": "https://localhost:8080/"
        },
        "id": "dkOMbaYVkoWv",
        "outputId": "fe3b1970-a71c-4b64-cdf1-385c7f1af1e9"
      },
      "outputs": [
        {
          "name": "stdout",
          "output_type": "stream",
          "text": [
            "+-------------------+--------------+------------------+--------------------+\n",
            "|                 dt|purchase_count|     seven_day_avg|seven_day_avg_strict|\n",
            "+-------------------+--------------+------------------+--------------------+\n",
            "|2014-01-02 00:00:00|             2|            5590.3|                null|\n",
            "|2014-01-03 00:00:00|             1|          5306.345|                null|\n",
            "|2014-01-06 00:00:00|             1|           4664.43|                null|\n",
            "|2014-01-07 00:00:00|             2|         3614.2725|                null|\n",
            "|2014-01-08 00:00:00|             1|          3242.418|                null|\n",
            "|2014-01-13 00:00:00|             2|           3660.03|                null|\n",
            "|2014-01-15 00:00:00|             1|3166.3114285714287|  3166.3114285714287|\n",
            "|2014-01-16 00:00:00|             1|2516.2685714285712|  2516.2685714285712|\n",
            "|2014-01-21 00:00:00|             1|           1873.07|             1873.07|\n",
            "|2014-01-22 00:00:00|             4| 4190.431428571428|   4190.431428571428|\n",
            "|2014-01-23 00:00:00|             1|           5316.55|             5316.55|\n",
            "|2014-01-31 00:00:00|             1|           6246.55|             6246.55|\n",
            "+-------------------+--------------+------------------+--------------------+\n",
            "\n"
          ]
        }
      ],
      "source": [
        "query2 = spark.sql('''\n",
        "                select \n",
        "                 Purchase_Date as dt\n",
        "                ,count(*) as purchase_count\n",
        "                --average 7 days \n",
        "                ,AVG(SUM(Total_Price))\n",
        "                 OVER(ORDER BY Purchase_Date ROWS BETWEEN 6 PRECEDING and CURRENT ROW) as seven_day_avg\n",
        "                --average 7 days strict\n",
        "                ,CASE WHEN\n",
        "                  7 = count(*)\n",
        "                  OVER(ORDER BY Purchase_Date ROWS BETWEEN 6 PRECEDING and CURRENT ROW)\n",
        "                 THEN\n",
        "                  AVG(SUM(Total_Price))\n",
        "                  OVER(ORDER BY Purchase_Date ROWS BETWEEN 6 PRECEDING and CURRENT ROW)\n",
        "                 END as seven_day_avg_strict\n",
        "                from vw_ca_purchase_log\n",
        "                where Purchase_Date between '2014-01-01'\n",
        "                and '2014-01-31'\n",
        "                group by dt\n",
        "                order by dt\n",
        "              ''')\n",
        "\n",
        "query2.show()"
      ]
    },
    {
      "cell_type": "markdown",
      "metadata": {
        "id": "1zGP70oroET5"
      },
      "source": [
        "計算當月累計營收(2012Q2)"
      ]
    },
    {
      "cell_type": "code",
      "execution_count": null,
      "metadata": {
        "colab": {
          "base_uri": "https://localhost:8080/"
        },
        "id": "BrajZjWckqi5",
        "outputId": "207766ed-1eeb-4fc6-ae0d-6c3305a992bc"
      },
      "outputs": [
        {
          "data": {
            "text/html": [
              "\n",
              "  <div id=\"df-062a919a-c264-476c-aa1e-60990fb2e428\">\n",
              "    <div class=\"colab-df-container\">\n",
              "      <div>\n",
              "<style scoped>\n",
              "    .dataframe tbody tr th:only-of-type {\n",
              "        vertical-align: middle;\n",
              "    }\n",
              "\n",
              "    .dataframe tbody tr th {\n",
              "        vertical-align: top;\n",
              "    }\n",
              "\n",
              "    .dataframe thead th {\n",
              "        text-align: right;\n",
              "    }\n",
              "</style>\n",
              "<table border=\"1\" class=\"dataframe\">\n",
              "  <thead>\n",
              "    <tr style=\"text-align: right;\">\n",
              "      <th></th>\n",
              "      <th>dt</th>\n",
              "      <th>year_month</th>\n",
              "      <th>purchase_count</th>\n",
              "      <th>total_amount</th>\n",
              "      <th>agg_amount</th>\n",
              "    </tr>\n",
              "  </thead>\n",
              "  <tbody>\n",
              "    <tr>\n",
              "      <th>0</th>\n",
              "      <td>2012-04-09</td>\n",
              "      <td>201204</td>\n",
              "      <td>1</td>\n",
              "      <td>170.00</td>\n",
              "      <td>170.00</td>\n",
              "    </tr>\n",
              "    <tr>\n",
              "      <th>1</th>\n",
              "      <td>2012-05-01</td>\n",
              "      <td>201205</td>\n",
              "      <td>1</td>\n",
              "      <td>395.20</td>\n",
              "      <td>395.20</td>\n",
              "    </tr>\n",
              "    <tr>\n",
              "      <th>2</th>\n",
              "      <td>2012-05-10</td>\n",
              "      <td>201205</td>\n",
              "      <td>1</td>\n",
              "      <td>34.00</td>\n",
              "      <td>429.20</td>\n",
              "    </tr>\n",
              "    <tr>\n",
              "      <th>3</th>\n",
              "      <td>2012-05-16</td>\n",
              "      <td>201205</td>\n",
              "      <td>1</td>\n",
              "      <td>560.00</td>\n",
              "      <td>989.20</td>\n",
              "    </tr>\n",
              "    <tr>\n",
              "      <th>4</th>\n",
              "      <td>2012-06-01</td>\n",
              "      <td>201206</td>\n",
              "      <td>1</td>\n",
              "      <td>2856.00</td>\n",
              "      <td>2856.00</td>\n",
              "    </tr>\n",
              "    <tr>\n",
              "      <th>5</th>\n",
              "      <td>2012-06-05</td>\n",
              "      <td>201206</td>\n",
              "      <td>1</td>\n",
              "      <td>3300.00</td>\n",
              "      <td>6156.00</td>\n",
              "    </tr>\n",
              "    <tr>\n",
              "      <th>6</th>\n",
              "      <td>2012-06-15</td>\n",
              "      <td>201206</td>\n",
              "      <td>2</td>\n",
              "      <td>15000.00</td>\n",
              "      <td>21156.00</td>\n",
              "    </tr>\n",
              "    <tr>\n",
              "      <th>7</th>\n",
              "      <td>2012-06-18</td>\n",
              "      <td>201206</td>\n",
              "      <td>1</td>\n",
              "      <td>6563.28</td>\n",
              "      <td>27719.28</td>\n",
              "    </tr>\n",
              "    <tr>\n",
              "      <th>8</th>\n",
              "      <td>2012-06-21</td>\n",
              "      <td>201206</td>\n",
              "      <td>1</td>\n",
              "      <td>26.43</td>\n",
              "      <td>27745.71</td>\n",
              "    </tr>\n",
              "    <tr>\n",
              "      <th>9</th>\n",
              "      <td>2012-06-25</td>\n",
              "      <td>201206</td>\n",
              "      <td>1</td>\n",
              "      <td>2396.00</td>\n",
              "      <td>30141.71</td>\n",
              "    </tr>\n",
              "    <tr>\n",
              "      <th>10</th>\n",
              "      <td>2012-06-29</td>\n",
              "      <td>201206</td>\n",
              "      <td>2</td>\n",
              "      <td>35701.24</td>\n",
              "      <td>65842.95</td>\n",
              "    </tr>\n",
              "  </tbody>\n",
              "</table>\n",
              "</div>\n",
              "      <button class=\"colab-df-convert\" onclick=\"convertToInteractive('df-062a919a-c264-476c-aa1e-60990fb2e428')\"\n",
              "              title=\"Convert this dataframe to an interactive table.\"\n",
              "              style=\"display:none;\">\n",
              "        \n",
              "  <svg xmlns=\"http://www.w3.org/2000/svg\" height=\"24px\"viewBox=\"0 0 24 24\"\n",
              "       width=\"24px\">\n",
              "    <path d=\"M0 0h24v24H0V0z\" fill=\"none\"/>\n",
              "    <path d=\"M18.56 5.44l.94 2.06.94-2.06 2.06-.94-2.06-.94-.94-2.06-.94 2.06-2.06.94zm-11 1L8.5 8.5l.94-2.06 2.06-.94-2.06-.94L8.5 2.5l-.94 2.06-2.06.94zm10 10l.94 2.06.94-2.06 2.06-.94-2.06-.94-.94-2.06-.94 2.06-2.06.94z\"/><path d=\"M17.41 7.96l-1.37-1.37c-.4-.4-.92-.59-1.43-.59-.52 0-1.04.2-1.43.59L10.3 9.45l-7.72 7.72c-.78.78-.78 2.05 0 2.83L4 21.41c.39.39.9.59 1.41.59.51 0 1.02-.2 1.41-.59l7.78-7.78 2.81-2.81c.8-.78.8-2.07 0-2.86zM5.41 20L4 18.59l7.72-7.72 1.47 1.35L5.41 20z\"/>\n",
              "  </svg>\n",
              "      </button>\n",
              "      \n",
              "  <style>\n",
              "    .colab-df-container {\n",
              "      display:flex;\n",
              "      flex-wrap:wrap;\n",
              "      gap: 12px;\n",
              "    }\n",
              "\n",
              "    .colab-df-convert {\n",
              "      background-color: #E8F0FE;\n",
              "      border: none;\n",
              "      border-radius: 50%;\n",
              "      cursor: pointer;\n",
              "      display: none;\n",
              "      fill: #1967D2;\n",
              "      height: 32px;\n",
              "      padding: 0 0 0 0;\n",
              "      width: 32px;\n",
              "    }\n",
              "\n",
              "    .colab-df-convert:hover {\n",
              "      background-color: #E2EBFA;\n",
              "      box-shadow: 0px 1px 2px rgba(60, 64, 67, 0.3), 0px 1px 3px 1px rgba(60, 64, 67, 0.15);\n",
              "      fill: #174EA6;\n",
              "    }\n",
              "\n",
              "    [theme=dark] .colab-df-convert {\n",
              "      background-color: #3B4455;\n",
              "      fill: #D2E3FC;\n",
              "    }\n",
              "\n",
              "    [theme=dark] .colab-df-convert:hover {\n",
              "      background-color: #434B5C;\n",
              "      box-shadow: 0px 1px 3px 1px rgba(0, 0, 0, 0.15);\n",
              "      filter: drop-shadow(0px 1px 2px rgba(0, 0, 0, 0.3));\n",
              "      fill: #FFFFFF;\n",
              "    }\n",
              "  </style>\n",
              "\n",
              "      <script>\n",
              "        const buttonEl =\n",
              "          document.querySelector('#df-062a919a-c264-476c-aa1e-60990fb2e428 button.colab-df-convert');\n",
              "        buttonEl.style.display =\n",
              "          google.colab.kernel.accessAllowed ? 'block' : 'none';\n",
              "\n",
              "        async function convertToInteractive(key) {\n",
              "          const element = document.querySelector('#df-062a919a-c264-476c-aa1e-60990fb2e428');\n",
              "          const dataTable =\n",
              "            await google.colab.kernel.invokeFunction('convertToInteractive',\n",
              "                                                     [key], {});\n",
              "          if (!dataTable) return;\n",
              "\n",
              "          const docLinkHtml = 'Like what you see? Visit the ' +\n",
              "            '<a target=\"_blank\" href=https://colab.research.google.com/notebooks/data_table.ipynb>data table notebook</a>'\n",
              "            + ' to learn more about interactive tables.';\n",
              "          element.innerHTML = '';\n",
              "          dataTable['output_type'] = 'display_data';\n",
              "          await google.colab.output.renderOutput(dataTable, element);\n",
              "          const docLink = document.createElement('div');\n",
              "          docLink.innerHTML = docLinkHtml;\n",
              "          element.appendChild(docLink);\n",
              "        }\n",
              "      </script>\n",
              "    </div>\n",
              "  </div>\n",
              "  "
            ],
            "text/plain": [
              "           dt year_month  purchase_count  total_amount  agg_amount\n",
              "0  2012-04-09     201204               1        170.00      170.00\n",
              "1  2012-05-01     201205               1        395.20      395.20\n",
              "2  2012-05-10     201205               1         34.00      429.20\n",
              "3  2012-05-16     201205               1        560.00      989.20\n",
              "4  2012-06-01     201206               1       2856.00     2856.00\n",
              "5  2012-06-05     201206               1       3300.00     6156.00\n",
              "6  2012-06-15     201206               2      15000.00    21156.00\n",
              "7  2012-06-18     201206               1       6563.28    27719.28\n",
              "8  2012-06-21     201206               1         26.43    27745.71\n",
              "9  2012-06-25     201206               1       2396.00    30141.71\n",
              "10 2012-06-29     201206               2      35701.24    65842.95"
            ]
          },
          "execution_count": 9,
          "metadata": {},
          "output_type": "execute_result"
        }
      ],
      "source": [
        "query2 = spark.sql('''\n",
        "                select \n",
        "                 Purchase_Date as dt\n",
        "                ,date_format(Purchase_Date,'yyyyMM') as year_month\n",
        "                ,count(*) as purchase_count\n",
        "                ,SUM(Total_Price) as total_amount\n",
        "                ,SUM(SUM(Total_Price))\n",
        "                 OVER(PARTITION BY cast(date_format(Purchase_Date,'yyyyMM') as varchar(6))\n",
        "                      ORDER BY Purchase_Date ROWS UNBOUNDED PRECEDING ) as agg_amount\n",
        "                from vw_ca_purchase_log\n",
        "                where Purchase_Date  between '2012-04-01'\n",
        "                and '2012-06-30'\n",
        "                group by dt\n",
        "                order by dt\n",
        "              ''')\n",
        "\n",
        "df_query2 = query2.toPandas()\n",
        "df_query2"
      ]
    },
    {
      "cell_type": "markdown",
      "metadata": {
        "id": "OszOJCZYpRzN"
      },
      "source": [
        "透過整月的累計營收趨勢了解每月的營收狀況"
      ]
    },
    {
      "cell_type": "code",
      "execution_count": null,
      "metadata": {
        "colab": {
          "base_uri": "https://localhost:8080/"
        },
        "id": "OkeCwefsksdf",
        "outputId": "cba73939-3ba1-4b2b-a036-73540f1a11e7"
      },
      "outputs": [
        {
          "data": {
            "text/plain": [
              "<matplotlib.legend.Legend at 0x7f0a6deff450>"
            ]
          },
          "execution_count": 10,
          "metadata": {},
          "output_type": "execute_result"
        },
        {
          "data": {
            "image/png": "[encoded data removed]",
            "text/plain": [
              "<Figure size 720x576 with 1 Axes>"
            ]
          },
          "metadata": {},
          "output_type": "display_data"
        }
      ],
      "source": [
        "from matplotlib.legend import legend_handler\n",
        "from matplotlib.ticker import FuncFormatter\n",
        "\n",
        "fig, ax = plt.subplots(figsize=(10, 8))\n",
        "sns.set(style = \"white\")\n",
        "sns.despine(top = True, right = True) #Remove line of top and right\n",
        "#Total bar chart\n",
        "ax = sns.barplot(x='dt', y='total_amount',  data=df_query2, ci=None, label = 'daily total income')\n",
        "#formatted label string \n",
        "x_dates = df_query2['dt'].dt.strftime('%Y-%m-%d')\n",
        "ax.set_xticklabels(labels=x_dates, rotation=45, ha='right')\n",
        "ax.yaxis.set_major_formatter(formatter)\n",
        "\n",
        "#Average line chart\n",
        "sns.lineplot(data=df_query2['agg_amount'] , marker='o', label='monthly agg_income')\n",
        "plt.title(\"2012 Q2 Daily-Monthly Business Situation\")\n",
        "plt.xlabel(\"Purchase date\")\n",
        "plt.ylabel(\"Total purchase price\")\n",
        "\n",
        "#set the title of legend figure\n",
        "handles, labels = ax.get_legend_handles_labels()\n",
        "ax.legend(labels, loc='upper left')"
      ]
    },
    {
      "cell_type": "markdown",
      "metadata": {
        "id": "_k3M0lEcpCUq"
      },
      "source": [
        "每月營收的年成長率"
      ]
    },
    {
      "cell_type": "code",
      "execution_count": null,
      "metadata": {
        "colab": {
          "base_uri": "https://localhost:8080/",
          "height": 426
        },
        "id": "hVYF24yukuZH",
        "outputId": "bdb4b3b4-d38a-4719-ffeb-6d00ef5d0133"
      },
      "outputs": [
        {
          "data": {
            "text/html": [
              "\n",
              "  <div id=\"df-1c16069d-c256-4c10-8ed1-a980368b11aa\">\n",
              "    <div class=\"colab-df-container\">\n",
              "      <div>\n",
              "<style scoped>\n",
              "    .dataframe tbody tr th:only-of-type {\n",
              "        vertical-align: middle;\n",
              "    }\n",
              "\n",
              "    .dataframe tbody tr th {\n",
              "        vertical-align: top;\n",
              "    }\n",
              "\n",
              "    .dataframe thead th {\n",
              "        text-align: right;\n",
              "    }\n",
              "</style>\n",
              "<table border=\"1\" class=\"dataframe\">\n",
              "  <thead>\n",
              "    <tr style=\"text-align: right;\">\n",
              "      <th></th>\n",
              "      <th>month</th>\n",
              "      <th>price_2013</th>\n",
              "      <th>price_2014</th>\n",
              "      <th>rate</th>\n",
              "    </tr>\n",
              "  </thead>\n",
              "  <tbody>\n",
              "    <tr>\n",
              "      <th>0</th>\n",
              "      <td>01</td>\n",
              "      <td>256818.92</td>\n",
              "      <td>59937.94</td>\n",
              "      <td>23.34</td>\n",
              "    </tr>\n",
              "    <tr>\n",
              "      <th>1</th>\n",
              "      <td>02</td>\n",
              "      <td>178813.23</td>\n",
              "      <td>167229.86</td>\n",
              "      <td>93.52</td>\n",
              "    </tr>\n",
              "    <tr>\n",
              "      <th>2</th>\n",
              "      <td>03</td>\n",
              "      <td>126283.89</td>\n",
              "      <td>204131.39</td>\n",
              "      <td>161.64</td>\n",
              "    </tr>\n",
              "    <tr>\n",
              "      <th>3</th>\n",
              "      <td>04</td>\n",
              "      <td>80745.00</td>\n",
              "      <td>1145328.17</td>\n",
              "      <td>1418.45</td>\n",
              "    </tr>\n",
              "    <tr>\n",
              "      <th>4</th>\n",
              "      <td>05</td>\n",
              "      <td>174463.94</td>\n",
              "      <td>5230188.21</td>\n",
              "      <td>2997.86</td>\n",
              "    </tr>\n",
              "    <tr>\n",
              "      <th>5</th>\n",
              "      <td>06</td>\n",
              "      <td>202822.04</td>\n",
              "      <td>1442351.08</td>\n",
              "      <td>711.14</td>\n",
              "    </tr>\n",
              "    <tr>\n",
              "      <th>6</th>\n",
              "      <td>07</td>\n",
              "      <td>190943.21</td>\n",
              "      <td>663184.35</td>\n",
              "      <td>347.32</td>\n",
              "    </tr>\n",
              "    <tr>\n",
              "      <th>7</th>\n",
              "      <td>08</td>\n",
              "      <td>115803.21</td>\n",
              "      <td>1128395.80</td>\n",
              "      <td>974.41</td>\n",
              "    </tr>\n",
              "    <tr>\n",
              "      <th>8</th>\n",
              "      <td>09</td>\n",
              "      <td>271158.03</td>\n",
              "      <td>182464.52</td>\n",
              "      <td>67.29</td>\n",
              "    </tr>\n",
              "    <tr>\n",
              "      <th>9</th>\n",
              "      <td>10</td>\n",
              "      <td>345677.81</td>\n",
              "      <td>375390.49</td>\n",
              "      <td>108.60</td>\n",
              "    </tr>\n",
              "    <tr>\n",
              "      <th>10</th>\n",
              "      <td>11</td>\n",
              "      <td>1586392.96</td>\n",
              "      <td>255792.31</td>\n",
              "      <td>16.12</td>\n",
              "    </tr>\n",
              "    <tr>\n",
              "      <th>11</th>\n",
              "      <td>12</td>\n",
              "      <td>186738.03</td>\n",
              "      <td>64238.28</td>\n",
              "      <td>34.40</td>\n",
              "    </tr>\n",
              "  </tbody>\n",
              "</table>\n",
              "</div>\n",
              "      <button class=\"colab-df-convert\" onclick=\"convertToInteractive('df-1c16069d-c256-4c10-8ed1-a980368b11aa')\"\n",
              "              title=\"Convert this dataframe to an interactive table.\"\n",
              "              style=\"display:none;\">\n",
              "        \n",
              "  <svg xmlns=\"http://www.w3.org/2000/svg\" height=\"24px\"viewBox=\"0 0 24 24\"\n",
              "       width=\"24px\">\n",
              "    <path d=\"M0 0h24v24H0V0z\" fill=\"none\"/>\n",
              "    <path d=\"M18.56 5.44l.94 2.06.94-2.06 2.06-.94-2.06-.94-.94-2.06-.94 2.06-2.06.94zm-11 1L8.5 8.5l.94-2.06 2.06-.94-2.06-.94L8.5 2.5l-.94 2.06-2.06.94zm10 10l.94 2.06.94-2.06 2.06-.94-2.06-.94-.94-2.06-.94 2.06-2.06.94z\"/><path d=\"M17.41 7.96l-1.37-1.37c-.4-.4-.92-.59-1.43-.59-.52 0-1.04.2-1.43.59L10.3 9.45l-7.72 7.72c-.78.78-.78 2.05 0 2.83L4 21.41c.39.39.9.59 1.41.59.51 0 1.02-.2 1.41-.59l7.78-7.78 2.81-2.81c.8-.78.8-2.07 0-2.86zM5.41 20L4 18.59l7.72-7.72 1.47 1.35L5.41 20z\"/>\n",
              "  </svg>\n",
              "      </button>\n",
              "      \n",
              "  <style>\n",
              "    .colab-df-container {\n",
              "      display:flex;\n",
              "      flex-wrap:wrap;\n",
              "      gap: 12px;\n",
              "    }\n",
              "\n",
              "    .colab-df-convert {\n",
              "      background-color: #E8F0FE;\n",
              "      border: none;\n",
              "      border-radius: 50%;\n",
              "      cursor: pointer;\n",
              "      display: none;\n",
              "      fill: #1967D2;\n",
              "      height: 32px;\n",
              "      padding: 0 0 0 0;\n",
              "      width: 32px;\n",
              "    }\n",
              "\n",
              "    .colab-df-convert:hover {\n",
              "      background-color: #E2EBFA;\n",
              "      box-shadow: 0px 1px 2px rgba(60, 64, 67, 0.3), 0px 1px 3px 1px rgba(60, 64, 67, 0.15);\n",
              "      fill: #174EA6;\n",
              "    }\n",
              "\n",
              "    [theme=dark] .colab-df-convert {\n",
              "      background-color: #3B4455;\n",
              "      fill: #D2E3FC;\n",
              "    }\n",
              "\n",
              "    [theme=dark] .colab-df-convert:hover {\n",
              "      background-color: #434B5C;\n",
              "      box-shadow: 0px 1px 3px 1px rgba(0, 0, 0, 0.15);\n",
              "      filter: drop-shadow(0px 1px 2px rgba(0, 0, 0, 0.3));\n",
              "      fill: #FFFFFF;\n",
              "    }\n",
              "  </style>\n",
              "\n",
              "      <script>\n",
              "        const buttonEl =\n",
              "          document.querySelector('#df-1c16069d-c256-4c10-8ed1-a980368b11aa button.colab-df-convert');\n",
              "        buttonEl.style.display =\n",
              "          google.colab.kernel.accessAllowed ? 'block' : 'none';\n",
              "\n",
              "        async function convertToInteractive(key) {\n",
              "          const element = document.querySelector('#df-1c16069d-c256-4c10-8ed1-a980368b11aa');\n",
              "          const dataTable =\n",
              "            await google.colab.kernel.invokeFunction('convertToInteractive',\n",
              "                                                     [key], {});\n",
              "          if (!dataTable) return;\n",
              "\n",
              "          const docLinkHtml = 'Like what you see? Visit the ' +\n",
              "            '<a target=\"_blank\" href=https://colab.research.google.com/notebooks/data_table.ipynb>data table notebook</a>'\n",
              "            + ' to learn more about interactive tables.';\n",
              "          element.innerHTML = '';\n",
              "          dataTable['output_type'] = 'display_data';\n",
              "          await google.colab.output.renderOutput(dataTable, element);\n",
              "          const docLink = document.createElement('div');\n",
              "          docLink.innerHTML = docLinkHtml;\n",
              "          element.appendChild(docLink);\n",
              "        }\n",
              "      </script>\n",
              "    </div>\n",
              "  </div>\n",
              "  "
            ],
            "text/plain": [
              "   month  price_2013  price_2014     rate\n",
              "0     01   256818.92    59937.94    23.34\n",
              "1     02   178813.23   167229.86    93.52\n",
              "2     03   126283.89   204131.39   161.64\n",
              "3     04    80745.00  1145328.17  1418.45\n",
              "4     05   174463.94  5230188.21  2997.86\n",
              "5     06   202822.04  1442351.08   711.14\n",
              "6     07   190943.21   663184.35   347.32\n",
              "7     08   115803.21  1128395.80   974.41\n",
              "8     09   271158.03   182464.52    67.29\n",
              "9     10   345677.81   375390.49   108.60\n",
              "10    11  1586392.96   255792.31    16.12\n",
              "11    12   186738.03    64238.28    34.40"
            ]
          },
          "execution_count": 11,
          "metadata": {},
          "output_type": "execute_result"
        }
      ],
      "source": [
        "query3 = spark.sql('''\n",
        "                WITH daily_purchase as (\n",
        "                  SELECT \n",
        "                    Purchase_Date as dt\n",
        "                    ,date_format(Purchase_Date,'yyyy') as year\n",
        "                    ,date_format(Purchase_Date,'MM') as month\n",
        "                    ,date_format(Purchase_Date,'dd') as day\n",
        "                    ,SUM(Total_Price) as total_price\n",
        "                  FROM vw_ca_purchase_log\n",
        "                  GROUP BY dt\n",
        "                )\n",
        "                SELECT \n",
        "                  month\n",
        "                  --COALESCE for changing null to 0\n",
        "                  ,COALESCE(SUM(CASE year WHEN '2013' THEN CAST(total_price as DECIMAL(10,2)) END), 0) as price_2013\n",
        "                  ,COALESCE(SUM(CASE year WHEN '2014' THEN CAST(total_price as DECIMAL(10,2)) END), 0) as price_2014\n",
        "                  ,COALESCE(CAST( SUM(CASE year WHEN '2014' THEN total_price END) /\n",
        "                                  SUM(CASE year WHEN '2013' THEN total_price END) * 100 as DECIMAL(10,2)), 0) as rate\n",
        "                FROM \n",
        "                  daily_purchase\n",
        "                GROUP BY month\n",
        "                ORDER BY month\n",
        "              ''')\n",
        "df_query3 = query3.toPandas()\n",
        "df_query3"
      ]
    },
    {
      "cell_type": "markdown",
      "metadata": {
        "id": "DDHp3KQUF7QL"
      },
      "source": [
        "**繪製每月營收年成長圖**"
      ]
    },
    {
      "cell_type": "code",
      "execution_count": null,
      "metadata": {
        "colab": {
          "base_uri": "https://localhost:8080/"
        },
        "id": "7eeWlZQqkw16",
        "outputId": "28406f29-add2-474c-983d-926f6b295ffa"
      },
      "outputs": [
        {
          "data": {
            "text/plain": [
              "<matplotlib.legend.Legend at 0x7f0a6dd6e8d0>"
            ]
          },
          "execution_count": 12,
          "metadata": {},
          "output_type": "execute_result"
        },
        {
          "data": {
            "image/png": "[encoded data removed]",
            "text/plain": [
              "<Figure size 720x576 with 2 Axes>"
            ]
          },
          "metadata": {},
          "output_type": "display_data"
        }
      ],
      "source": [
        "from matplotlib.legend import legend_handler\n",
        "from matplotlib.ticker import FuncFormatter\n",
        "\n",
        "fig, ax = plt.subplots(figsize=(10, 8))\n",
        "sns.set(style = \"white\")\n",
        "sns.despine(top = True, right = True) #Remove line of top and right\n",
        "#Total bar chart\n",
        "ax = sns.barplot(x='month', y='price_2014',  data=df_query3, ci=None, label = 'monthly total purchase')\n",
        "#formatted label string \n",
        "x_dates = '2014-'+df_query3['month']\n",
        "ax.set_xticklabels(labels=x_dates, rotation=45, ha='right')\n",
        "ax.yaxis.set_major_formatter(formatter)\n",
        "\n",
        "ax2 = ax.twinx()\n",
        "\n",
        "sns.lineplot(data=df_query3['rate'] , marker='o', label='monthly agg_income', ax=ax2)\n",
        "\n",
        "for month, rate in zip(df_query3['month'],df_query3['rate']):\n",
        "  month = int(month)\n",
        "  ax2.annotate(f'{formatter(rate)}%', xy=(month, rate), textcoords=\"offset points\", xytext=(-22, 8), ha=\"right\")\n",
        "\n",
        "plt.title(\"2014 Monthly-Year Business Situation\")\n",
        "plt.xlabel(\"Purchase Month\")\n",
        "plt.ylabel(\"Total purchase price\")\n",
        "\n",
        "#set the title of legend figure\n",
        "handles, labels = ax.get_legend_handles_labels()\n",
        "ax.legend(labels, loc='upper left')"
      ]
    },
    {
      "cell_type": "markdown",
      "metadata": {
        "id": "8Xks-LTKwMaD"
      },
      "source": [
        "ABC Rank: 藉由營收的貢獻度將商品分成不同等級\n",
        "Rank A: 前面0~70%\n",
        "Rank B: 70% ~ 90%\n",
        "Rank C: 90% ~ 100%\n",
        "\n",
        "Fan chart建立時應注意的重點：「採取哪個時間點的銷售額作為基準」。此會影響判讀成長或衰退趨勢的結果。"
      ]
    },
    {
      "cell_type": "code",
      "execution_count": null,
      "metadata": {
        "colab": {
          "base_uri": "https://localhost:8080/"
        },
        "id": "uaLZQVMIHHFQ",
        "outputId": "bc9e3149-7ae6-43f7-e7b7-48219d7c30c4"
      },
      "outputs": [
        {
          "name": "stdout",
          "output_type": "stream",
          "text": [
            "+-------------+---------+-----------------+----------------+--------+\n",
            "|Item_Name    |amount   |composition_ratio|cumulative_ratio|abc_rank|\n",
            "+-------------+---------+-----------------+----------------+--------+\n",
            "|Food         |227977.20|40.57            |40.57           |A       |\n",
            "|SHEETING     |199172.20|35.45            |76.02           |B       |\n",
            "|Stationery   |47908.04 |8.53             |84.54           |B       |\n",
            "|WASH SAND    |37320.00 |6.64             |91.18           |C       |\n",
            "|Hardware     |35452.86 |6.31             |97.49           |C       |\n",
            "|Legal Service|4695.46  |0.84             |98.33           |C       |\n",
            "|LBR          |4630.00  |0.82             |99.15           |C       |\n",
            "|Reagents     |4576.68  |0.81             |99.97           |C       |\n",
            "|Entertainment|183.60   |0.03             |100.00          |C       |\n",
            "+-------------+---------+-----------------+----------------+--------+\n",
            "\n"
          ]
        }
      ],
      "source": [
        "query4 = spark.sql('''\n",
        "                WITH monthly_sales as (\n",
        "                  SELECT \n",
        "                    Item_Name\n",
        "                    --計算各類別營收\n",
        "                   ,SUM(Total_Price) as amount\n",
        "                  FROM vw_ca_purchase_log\n",
        "                  WHERE Purchase_Date  BETWEEN '2013-01-01'\n",
        "                    AND '2013-03-31'\n",
        "                  GROUP BY Item_Name\n",
        "                )\n",
        "                , sales_composition_ratio AS (\n",
        "                  SELECT\n",
        "                     Item_Name\n",
        "                   , cast(amount as decimal(10,2)) as amount\n",
        "                   --所占百分比：100.0 * 類別營收 / 全體營收\n",
        "                   , cast(100.0 * amount/SUM(amount) OVER() as decimal(10,2)) as composition_ratio\n",
        "                   --累計百分比：100.0 * 類別累計營收 / 全體營收\n",
        "                   , cast(100.0 * SUM(amount) OVER(ORDER BY amount DESC)\n",
        "                     / SUM(amount) OVER() as decimal(10, 2)) AS cumulative_ratio\n",
        "                  FROM monthly_sales\n",
        "                )\n",
        "                SELECT * \n",
        "                , CASE\n",
        "                    WHEN cumulative_ratio BETWEEN 0  AND 70  THEN 'A'\n",
        "                    WHEN cumulative_ratio BETWEEN 70 AND 90  THEN 'B'\n",
        "                    WHEN cumulative_ratio BETWEEN 90 AND 100 THEN 'C'\n",
        "                  END as abc_rank\n",
        "                FROM sales_composition_ratio\n",
        "                ORDER BY amount DESC\n",
        "              ''')\n",
        "query4.show(truncate = False)\n",
        "df_query4 = query4.toPandas()"
      ]
    },
    {
      "cell_type": "code",
      "execution_count": null,
      "metadata": {
        "colab": {
          "base_uri": "https://localhost:8080/"
        },
        "id": "NhvVzq-S1A9J",
        "outputId": "74541ddc-e603-4d5f-8916-518f62d6b5b3"
      },
      "outputs": [
        {
          "data": {
            "text/plain": [
              "<matplotlib.legend.Legend at 0x7f0a6dc6f490>"
            ]
          },
          "execution_count": 14,
          "metadata": {},
          "output_type": "execute_result"
        },
        {
          "data": {
            "image/png": "[encoded data removed]",
            "text/plain": [
              "<Figure size 720x576 with 2 Axes>"
            ]
          },
          "metadata": {},
          "output_type": "display_data"
        }
      ],
      "source": [
        "from matplotlib.legend import legend_handler\n",
        "from matplotlib.ticker import FuncFormatter\n",
        "\n",
        "fig, ax = plt.subplots(figsize=(10, 8))\n",
        "sns.set(style = \"white\")\n",
        "#Total bar chart\n",
        "ax = sns.barplot(x='Item_Name', y='amount',  data=df_query4, ci=None, label = 'amount')\n",
        "#formatted label string \n",
        "x_items = df_query4['abc_rank'] + \": \"+ df_query4['Item_Name']\n",
        "ax.set_xticklabels(labels=x_items, rotation=45, ha='right')\n",
        "ax.yaxis.set_major_formatter(formatter)\n",
        "\n",
        "ax2 = ax.twinx()\n",
        "sns.lineplot(data=df_query4['cumulative_ratio'] , marker='o', label='cumulative ratio', ax=ax2)\n",
        "\n",
        "plt.title(\"2013 Q1 Product ABC Rank\")\n",
        "plt.xlabel(\"Item Name\")\n",
        "plt.ylabel(\"Cumulative Ratio\")\n",
        "\n",
        "#set the title of legend figure\n",
        "handles, labels = ax.get_legend_handles_labels()\n",
        "ax.legend(labels, loc='center')\n",
        "handles2, labels2 = ax2.get_legend_handles_labels()\n",
        "ax2.legend(labels2, loc='center right')"
      ]
    },
    {
      "cell_type": "markdown",
      "metadata": {
        "id": "EbrwJnmX86dS"
      },
      "source": [
        "### Fan Chart\n",
        "\n",
        "判讀商品銷售成長率\n",
        "\n",
        "建立Fan Chart應注意的重點：\n",
        "\n",
        "**採取哪個時間點的銷售額作為基準，\n",
        "會大幅影響成長或衰退趨勢的判讀。**"
      ]
    },
    {
      "cell_type": "code",
      "execution_count": null,
      "metadata": {
        "colab": {
          "base_uri": "https://localhost:8080/"
        },
        "id": "XexnMUr089a2",
        "outputId": "04493407-9cd6-4699-acf1-6989e45e79c3"
      },
      "outputs": [
        {
          "data": {
            "text/html": [
              "\n",
              "  <div id=\"df-21eac7d0-618c-4218-92cf-84667275eed0\">\n",
              "    <div class=\"colab-df-container\">\n",
              "      <div>\n",
              "<style scoped>\n",
              "    .dataframe tbody tr th:only-of-type {\n",
              "        vertical-align: middle;\n",
              "    }\n",
              "\n",
              "    .dataframe tbody tr th {\n",
              "        vertical-align: top;\n",
              "    }\n",
              "\n",
              "    .dataframe thead th {\n",
              "        text-align: right;\n",
              "    }\n",
              "</style>\n",
              "<table border=\"1\" class=\"dataframe\">\n",
              "  <thead>\n",
              "    <tr style=\"text-align: right;\">\n",
              "      <th></th>\n",
              "      <th>year_month</th>\n",
              "      <th>category</th>\n",
              "      <th>amount</th>\n",
              "      <th>base_amount</th>\n",
              "      <th>rate</th>\n",
              "    </tr>\n",
              "  </thead>\n",
              "  <tbody>\n",
              "    <tr>\n",
              "      <th>0</th>\n",
              "      <td>2013-01</td>\n",
              "      <td>SHEETING</td>\n",
              "      <td>199172.20</td>\n",
              "      <td>199172.20</td>\n",
              "      <td>100.00</td>\n",
              "    </tr>\n",
              "    <tr>\n",
              "      <th>1</th>\n",
              "      <td>2013-01</td>\n",
              "      <td>Reagents</td>\n",
              "      <td>4576.68</td>\n",
              "      <td>4576.68</td>\n",
              "      <td>100.00</td>\n",
              "    </tr>\n",
              "    <tr>\n",
              "      <th>2</th>\n",
              "      <td>2013-01</td>\n",
              "      <td>LBR</td>\n",
              "      <td>4630.00</td>\n",
              "      <td>4630.00</td>\n",
              "      <td>100.00</td>\n",
              "    </tr>\n",
              "    <tr>\n",
              "      <th>3</th>\n",
              "      <td>2013-01</td>\n",
              "      <td>Hardware</td>\n",
              "      <td>16184.45</td>\n",
              "      <td>16184.45</td>\n",
              "      <td>100.00</td>\n",
              "    </tr>\n",
              "    <tr>\n",
              "      <th>4</th>\n",
              "      <td>2013-01</td>\n",
              "      <td>Food</td>\n",
              "      <td>32071.99</td>\n",
              "      <td>32071.99</td>\n",
              "      <td>100.00</td>\n",
              "    </tr>\n",
              "    <tr>\n",
              "      <th>5</th>\n",
              "      <td>2013-01</td>\n",
              "      <td>Entertainment</td>\n",
              "      <td>183.60</td>\n",
              "      <td>183.60</td>\n",
              "      <td>100.00</td>\n",
              "    </tr>\n",
              "    <tr>\n",
              "      <th>6</th>\n",
              "      <td>2013-02</td>\n",
              "      <td>WASH SAND</td>\n",
              "      <td>37320.00</td>\n",
              "      <td>37320.00</td>\n",
              "      <td>100.00</td>\n",
              "    </tr>\n",
              "    <tr>\n",
              "      <th>7</th>\n",
              "      <td>2013-02</td>\n",
              "      <td>Stationery</td>\n",
              "      <td>8420.54</td>\n",
              "      <td>8420.54</td>\n",
              "      <td>100.00</td>\n",
              "    </tr>\n",
              "    <tr>\n",
              "      <th>8</th>\n",
              "      <td>2013-02</td>\n",
              "      <td>Legal Service</td>\n",
              "      <td>4695.46</td>\n",
              "      <td>4695.46</td>\n",
              "      <td>100.00</td>\n",
              "    </tr>\n",
              "    <tr>\n",
              "      <th>9</th>\n",
              "      <td>2013-02</td>\n",
              "      <td>Hardware</td>\n",
              "      <td>255.00</td>\n",
              "      <td>16184.45</td>\n",
              "      <td>1.58</td>\n",
              "    </tr>\n",
              "    <tr>\n",
              "      <th>10</th>\n",
              "      <td>2013-02</td>\n",
              "      <td>Food</td>\n",
              "      <td>128122.23</td>\n",
              "      <td>32071.99</td>\n",
              "      <td>399.48</td>\n",
              "    </tr>\n",
              "    <tr>\n",
              "      <th>11</th>\n",
              "      <td>2013-03</td>\n",
              "      <td>Stationery</td>\n",
              "      <td>39487.50</td>\n",
              "      <td>8420.54</td>\n",
              "      <td>468.94</td>\n",
              "    </tr>\n",
              "    <tr>\n",
              "      <th>12</th>\n",
              "      <td>2013-03</td>\n",
              "      <td>Hardware</td>\n",
              "      <td>19013.41</td>\n",
              "      <td>16184.45</td>\n",
              "      <td>117.48</td>\n",
              "    </tr>\n",
              "    <tr>\n",
              "      <th>13</th>\n",
              "      <td>2013-03</td>\n",
              "      <td>Food</td>\n",
              "      <td>67782.98</td>\n",
              "      <td>32071.99</td>\n",
              "      <td>211.35</td>\n",
              "    </tr>\n",
              "  </tbody>\n",
              "</table>\n",
              "</div>\n",
              "      <button class=\"colab-df-convert\" onclick=\"convertToInteractive('df-21eac7d0-618c-4218-92cf-84667275eed0')\"\n",
              "              title=\"Convert this dataframe to an interactive table.\"\n",
              "              style=\"display:none;\">\n",
              "        \n",
              "  <svg xmlns=\"http://www.w3.org/2000/svg\" height=\"24px\"viewBox=\"0 0 24 24\"\n",
              "       width=\"24px\">\n",
              "    <path d=\"M0 0h24v24H0V0z\" fill=\"none\"/>\n",
              "    <path d=\"M18.56 5.44l.94 2.06.94-2.06 2.06-.94-2.06-.94-.94-2.06-.94 2.06-2.06.94zm-11 1L8.5 8.5l.94-2.06 2.06-.94-2.06-.94L8.5 2.5l-.94 2.06-2.06.94zm10 10l.94 2.06.94-2.06 2.06-.94-2.06-.94-.94-2.06-.94 2.06-2.06.94z\"/><path d=\"M17.41 7.96l-1.37-1.37c-.4-.4-.92-.59-1.43-.59-.52 0-1.04.2-1.43.59L10.3 9.45l-7.72 7.72c-.78.78-.78 2.05 0 2.83L4 21.41c.39.39.9.59 1.41.59.51 0 1.02-.2 1.41-.59l7.78-7.78 2.81-2.81c.8-.78.8-2.07 0-2.86zM5.41 20L4 18.59l7.72-7.72 1.47 1.35L5.41 20z\"/>\n",
              "  </svg>\n",
              "      </button>\n",
              "      \n",
              "  <style>\n",
              "    .colab-df-container {\n",
              "      display:flex;\n",
              "      flex-wrap:wrap;\n",
              "      gap: 12px;\n",
              "    }\n",
              "\n",
              "    .colab-df-convert {\n",
              "      background-color: #E8F0FE;\n",
              "      border: none;\n",
              "      border-radius: 50%;\n",
              "      cursor: pointer;\n",
              "      display: none;\n",
              "      fill: #1967D2;\n",
              "      height: 32px;\n",
              "      padding: 0 0 0 0;\n",
              "      width: 32px;\n",
              "    }\n",
              "\n",
              "    .colab-df-convert:hover {\n",
              "      background-color: #E2EBFA;\n",
              "      box-shadow: 0px 1px 2px rgba(60, 64, 67, 0.3), 0px 1px 3px 1px rgba(60, 64, 67, 0.15);\n",
              "      fill: #174EA6;\n",
              "    }\n",
              "\n",
              "    [theme=dark] .colab-df-convert {\n",
              "      background-color: #3B4455;\n",
              "      fill: #D2E3FC;\n",
              "    }\n",
              "\n",
              "    [theme=dark] .colab-df-convert:hover {\n",
              "      background-color: #434B5C;\n",
              "      box-shadow: 0px 1px 3px 1px rgba(0, 0, 0, 0.15);\n",
              "      filter: drop-shadow(0px 1px 2px rgba(0, 0, 0, 0.3));\n",
              "      fill: #FFFFFF;\n",
              "    }\n",
              "  </style>\n",
              "\n",
              "      <script>\n",
              "        const buttonEl =\n",
              "          document.querySelector('#df-21eac7d0-618c-4218-92cf-84667275eed0 button.colab-df-convert');\n",
              "        buttonEl.style.display =\n",
              "          google.colab.kernel.accessAllowed ? 'block' : 'none';\n",
              "\n",
              "        async function convertToInteractive(key) {\n",
              "          const element = document.querySelector('#df-21eac7d0-618c-4218-92cf-84667275eed0');\n",
              "          const dataTable =\n",
              "            await google.colab.kernel.invokeFunction('convertToInteractive',\n",
              "                                                     [key], {});\n",
              "          if (!dataTable) return;\n",
              "\n",
              "          const docLinkHtml = 'Like what you see? Visit the ' +\n",
              "            '<a target=\"_blank\" href=https://colab.research.google.com/notebooks/data_table.ipynb>data table notebook</a>'\n",
              "            + ' to learn more about interactive tables.';\n",
              "          element.innerHTML = '';\n",
              "          dataTable['output_type'] = 'display_data';\n",
              "          await google.colab.output.renderOutput(dataTable, element);\n",
              "          const docLink = document.createElement('div');\n",
              "          docLink.innerHTML = docLinkHtml;\n",
              "          element.appendChild(docLink);\n",
              "        }\n",
              "      </script>\n",
              "    </div>\n",
              "  </div>\n",
              "  "
            ],
            "text/plain": [
              "   year_month       category     amount base_amount    rate\n",
              "0     2013-01       SHEETING  199172.20   199172.20  100.00\n",
              "1     2013-01       Reagents    4576.68     4576.68  100.00\n",
              "2     2013-01            LBR    4630.00     4630.00  100.00\n",
              "3     2013-01       Hardware   16184.45    16184.45  100.00\n",
              "4     2013-01           Food   32071.99    32071.99  100.00\n",
              "5     2013-01  Entertainment     183.60      183.60  100.00\n",
              "6     2013-02      WASH SAND   37320.00    37320.00  100.00\n",
              "7     2013-02     Stationery    8420.54     8420.54  100.00\n",
              "8     2013-02  Legal Service    4695.46     4695.46  100.00\n",
              "9     2013-02       Hardware     255.00    16184.45    1.58\n",
              "10    2013-02           Food  128122.23    32071.99  399.48\n",
              "11    2013-03     Stationery   39487.50     8420.54  468.94\n",
              "12    2013-03       Hardware   19013.41    16184.45  117.48\n",
              "13    2013-03           Food   67782.98    32071.99  211.35"
            ]
          },
          "execution_count": 15,
          "metadata": {},
          "output_type": "execute_result"
        }
      ],
      "source": [
        "query5 = spark.sql('''\n",
        "                WITH daily_category_amount as (\n",
        "                  SELECT \n",
        "                     Purchase_Date as dt\n",
        "                    ,Item_Name as category\n",
        "                    ,date_format(Purchase_Date,'yyyy') as year\n",
        "                    ,date_format(Purchase_Date,'MM') as month\n",
        "                    ,date_format(Purchase_Date,'dd') as day\n",
        "                    ,SUM(Total_Price) as amount\n",
        "                  FROM vw_ca_purchase_log\n",
        "                  WHERE Purchase_Date  BETWEEN '2013-01-01'\n",
        "                    AND '2013-03-31'\n",
        "                  GROUP BY dt, category\n",
        "                )\n",
        "                , monthly_category_amount as (\n",
        "                  SELECT \n",
        "                    concat(year, '-', month) as year_month\n",
        "                    , category\n",
        "                    , cast(SUM(amount) as decimal(10,2)) as amount\n",
        "                  FROM daily_category_amount\n",
        "                  GROUP BY year, month, category\n",
        "                )\n",
        "                SELECT \n",
        "                      year_month\n",
        "                    , category\n",
        "                    , amount\n",
        "                    , cast(FIRST_VALUE(amount)\n",
        "                             OVER (PARTITION BY category ORDER BY year_month, category ROWS UNBOUNDED PRECEDING)\n",
        "                             as decimal(10,2)) \n",
        "                      as base_amount\n",
        "                    , cast (100.0 * amount\n",
        "                      / FIRST_VALUE(amount)\n",
        "                             OVER (PARTITION BY category ORDER BY year_month, category ROWS UNBOUNDED PRECEDING)\n",
        "                             as decimal(10,2)) \n",
        "                      as rate\n",
        "                FROM monthly_category_amount\n",
        "                ORDER BY year_month, category DESC\n",
        "              ''')\n",
        "\n",
        "df_query5 = query5.toPandas()\n",
        "df_query5"
      ]
    },
    {
      "cell_type": "markdown",
      "metadata": {
        "id": "vv2df3O-ocZB"
      },
      "source": [
        "Hardware, Stationery, Food都有大幅的成長\n",
        "\n",
        "其中以Stationery的成長幅度最大"
      ]
    },
    {
      "cell_type": "code",
      "execution_count": null,
      "metadata": {
        "colab": {
          "base_uri": "https://localhost:8080/"
        },
        "id": "DSunD0zZa3X-",
        "outputId": "636603a5-bf5e-4a8f-a2b1-5f9524f0f007"
      },
      "outputs": [
        {
          "data": {
            "text/plain": [
              "Text(0, 0.5, 'Products Growth Rate')"
            ]
          },
          "execution_count": 16,
          "metadata": {},
          "output_type": "execute_result"
        },
        {
          "data": {
            "image/png": "[encoded data removed]",
            "text/plain": [
              "<Figure size 720x576 with 1 Axes>"
            ]
          },
          "metadata": {},
          "output_type": "display_data"
        }
      ],
      "source": [
        "from matplotlib.legend import legend_handler\n",
        "from matplotlib import ticker\n",
        "\n",
        "fig, ax = plt.subplots(figsize=(10, 8))\n",
        "sns.set(style = \"white\")\n",
        "sns.despine(top = True, right = True) #Remove line of top and right\n",
        "ax.yaxis.set_major_formatter(ticker.PercentFormatter(xmax = 100, decimals = 1))\n",
        "sns.lineplot(x=\"year_month\", y=\"rate\", hue=\"category\", marker='o', data=df_query5)\n",
        "\n",
        "for year_month, rate in zip(df_query5['year_month'], df_query5['rate']):\n",
        "  year_month = str(year_month)\n",
        "  ax.annotate(f'{formatter(rate)}%', xy=(year_month, rate), textcoords=\"offset points\", xytext=(0, 6), ha=\"center\")\n",
        "\n",
        "plt.title(\"2013 Q1 Products Growth Rate by Fan Chart\")\n",
        "plt.xlabel(\"year-month\")\n",
        "plt.ylabel(\"Products Growth Rate\")\n"
      ]
    },
    {
      "cell_type": "markdown",
      "metadata": {
        "id": "bvMSfjdm4ker"
      },
      "source": [
        "\n",
        "\n"
      ]
    }
  ],
  "metadata": {
    "colab": {
      "collapsed_sections": [],
      "provenance": []
    },
    "kernelspec": {
      "display_name": "Python 3",
      "name": "python3"
    },
    "language_info": {
      "name": "python"
    }
  },
  "nbformat": 4,
  "nbformat_minor": 0
}
